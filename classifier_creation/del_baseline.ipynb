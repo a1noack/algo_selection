{
 "cells": [
  {
   "cell_type": "code",
   "execution_count": 29,
   "metadata": {},
   "outputs": [],
   "source": [
    "# first neural network with keras tutorial\n",
    "from keras.models import Sequential\n",
    "from keras.layers import Dense\n",
    "import tensorflow as tf\n",
    "from keras import backend as K\n",
    "from sklearn.model_selection import train_test_split\n",
    "import pandas as pd\n",
    "import numpy as np"
   ]
  },
  {
   "cell_type": "code",
   "execution_count": 30,
   "metadata": {},
   "outputs": [],
   "source": [
    "df = pd.read_pickle('../env_specs/prediction_data.pkl')\n",
    "df.drop(['ProbeFileID','IsTarget'], axis=1, inplace=True)\n",
    "# replace nans with -1\n",
    "df = df.fillna(-1)"
   ]
  },
  {
   "cell_type": "code",
   "execution_count": 31,
   "metadata": {},
   "outputs": [],
   "source": [
    "X,Y = df.drop(['label'], axis=1).values, df['label'].values\n",
    "X_train, X_test, Y_train, Y_test = train_test_split(X, Y, test_size=0.25, random_state=42)"
   ]
  },
  {
   "cell_type": "code",
   "execution_count": 32,
   "metadata": {},
   "outputs": [],
   "source": [
    "def shuffle(arr):\n",
    "    x, y = arr.shape\n",
    "    rows = np.indices((x,y))[0]\n",
    "    cols = [np.random.permutation(y) for _ in range(x)]\n",
    "    return arr[rows, cols]"
   ]
  },
  {
   "cell_type": "code",
   "execution_count": 33,
   "metadata": {},
   "outputs": [],
   "source": [
    "num_samples, num_algos = X_train.shape\n",
    "\n",
    "del_orders = np.repeat(np.arange(num_algos).reshape(1, num_algos), repeats=num_samples, axis=0)#.repeat(num_algos-1, axis=0)"
   ]
  },
  {
   "cell_type": "code",
   "execution_count": 34,
   "metadata": {},
   "outputs": [
    {
     "name": "stdout",
     "output_type": "stream",
     "text": [
      "WARNING:tensorflow:From /Users/adamnoack/anaconda3/envs/py37/lib/python3.7/site-packages/tensorflow/python/framework/op_def_library.py:263: colocate_with (from tensorflow.python.framework.ops) is deprecated and will be removed in a future version.\n",
      "Instructions for updating:\n",
      "Colocations handled automatically by placer.\n",
      "WARNING:tensorflow:From /Users/adamnoack/anaconda3/envs/py37/lib/python3.7/site-packages/tensorflow/python/ops/metrics_impl.py:526: to_float (from tensorflow.python.ops.math_ops) is deprecated and will be removed in a future version.\n",
      "Instructions for updating:\n",
      "Use tf.cast instead.\n",
      "WARNING:tensorflow:From /Users/adamnoack/anaconda3/envs/py37/lib/python3.7/site-packages/tensorflow/python/ops/metrics_impl.py:788: div (from tensorflow.python.ops.math_ops) is deprecated and will be removed in a future version.\n",
      "Instructions for updating:\n",
      "Deprecated in favor of operator or tf.math.divide.\n"
     ]
    }
   ],
   "source": [
    "results = {}\n",
    "\n",
    "def auc(y_true, y_pred):\n",
    "                auc = tf.metrics.auc(y_true, y_pred)[1]\n",
    "                K.get_session().run(tf.local_variables_initializer())\n",
    "                return auc\n",
    "\n",
    "X_train, X_test, Y_train, Y_test = train_test_split(X, Y, test_size=0.25, random_state=42)\n",
    "\n",
    "h1, h2, h3 = 100, 400, 0\n",
    "\n",
    "# define the keras model\n",
    "model = Sequential()\n",
    "model.add(Dense(h1, input_dim=X.shape[1], activation='relu'))\n",
    "model.add(Dense(h2, input_dim=X.shape[1], activation='relu'))\n",
    "if h3 > 0:\n",
    "    model.add(Dense(h3, input_dim=X.shape[1], activation='relu'))\n",
    "# model.add(Dense(50, input_dim=X.shape[1], activation='relu'))\n",
    "model.add(Dense(1, activation='sigmoid'))\n",
    "\n",
    "# compile the keras model\n",
    "model.compile(loss='binary_crossentropy', optimizer='adam', metrics=['accuracy', auc])"
   ]
  },
  {
   "cell_type": "code",
   "execution_count": 40,
   "metadata": {},
   "outputs": [],
   "source": [
    "def del_algos(X, del_orders):\n",
    "    for i in range(0, X.shape[0], num_algos-1):\n",
    "        for j in range(num_algos-1):\n",
    "            X[i+j, del_orders[i//(num_algos-1),:j+1]] = -1.\n",
    "    return X"
   ]
  },
  {
   "cell_type": "code",
   "execution_count": null,
   "metadata": {},
   "outputs": [
    {
     "name": "stdout",
     "output_type": "stream",
     "text": [
      "WARNING:tensorflow:From /Users/adamnoack/anaconda3/envs/py37/lib/python3.7/site-packages/tensorflow/python/ops/math_ops.py:3066: to_int32 (from tensorflow.python.ops.math_ops) is deprecated and will be removed in a future version.\n",
      "Instructions for updating:\n",
      "Use tf.cast instead.\n",
      "Train on 562582 samples, validate on 62510 samples\n",
      "Epoch 1/5\n",
      "543990/562582 [============================>.] - ETA: 1s - loss: 0.3956 - acc: 0.8150 - auc: 0.8330"
     ]
    }
   ],
   "source": [
    "epochs_per_shuffle = 5\n",
    "X_train_rep = np.repeat(X_train, repeats=num_algos-1, axis=0)\n",
    "Y_train_rep = np.repeat(Y_train, repeats=num_algos-1, axis=0)\n",
    "\n",
    "for i in range(10):\n",
    "    del_orders = shuffle(del_orders)\n",
    "    X_train_del = del_algos(np.copy(X_train_rep), del_orders)\n",
    "    # fit the keras model on the dataset\n",
    "    model.fit(X_train_del, Y_train_rep, epochs=epochs_per_shuffle, validation_split=.10, batch_size=30, initial_epoch=i*5)\n",
    "\n",
    "    # evaluate the keras model\n",
    "#     _, accuracy, auc = model.evaluate(X_test, Y_test)\n",
    "#     results['{},{},{}'.format(h1,h2,h3)] = [accuracy, auc]\n",
    "#     print('h1: {}, h2: {}, h3: {}\\nAccuracy: {:.4f}\\nAUC: {:.4f}\\n\\n'.format(h1, h2, h3, accuracy, auc))"
   ]
  },
  {
   "cell_type": "code",
   "execution_count": null,
   "metadata": {},
   "outputs": [],
   "source": []
  }
 ],
 "metadata": {
  "kernelspec": {
   "display_name": "Python 3",
   "language": "python",
   "name": "python3"
  },
  "language_info": {
   "codemirror_mode": {
    "name": "ipython",
    "version": 3
   },
   "file_extension": ".py",
   "mimetype": "text/x-python",
   "name": "python",
   "nbconvert_exporter": "python",
   "pygments_lexer": "ipython3",
   "version": "3.7.3"
  }
 },
 "nbformat": 4,
 "nbformat_minor": 4
}
